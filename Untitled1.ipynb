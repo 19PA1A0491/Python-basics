{
  "nbformat": 4,
  "nbformat_minor": 0,
  "metadata": {
    "colab": {
      "name": "Untitled1.ipynb",
      "provenance": [],
      "authorship_tag": "ABX9TyP0pd6PFMtBBapNgcqGLu/g",
      "include_colab_link": true
    },
    "kernelspec": {
      "name": "python3",
      "display_name": "Python 3"
    }
  },
  "cells": [
    {
      "cell_type": "markdown",
      "metadata": {
        "id": "view-in-github",
        "colab_type": "text"
      },
      "source": [
        "<a href=\"https://colab.research.google.com/github/19PA1A0491/Python-basics/blob/master/Untitled1.ipynb\" target=\"_parent\"><img src=\"https://colab.research.google.com/assets/colab-badge.svg\" alt=\"Open In Colab\"/></a>"
      ]
    },
    {
      "cell_type": "code",
      "metadata": {
        "id": "wkOFOkxkbYF3",
        "colab_type": "code",
        "colab": {
          "base_uri": "https://localhost:8080/",
          "height": 391
        },
        "outputId": "cc996cda-6242-43d2-adc7-c7a7e635bb83"
      },
      "source": [
        "import numpy as np\n",
        "a=np.arange(15).reshape(3, 5)\n",
        "print(a)\n",
        "a.shape\n",
        "a.ndim\n",
        "a.size\n",
        "type(a)\n",
        "np.zeros( (3, 4) )\n",
        "np.ones( (2,3), dtype=np.int32 )\n",
        "np.empty( (2,3) )\n",
        "np.eye(3)\n",
        "np.full((3,3),9)\n",
        "np.random.random((2,3))\n",
        "a=np.array([20, 30, 40, 50])\n",
        "b=np.arange( 4 )\n",
        "print(a)\n",
        "print(b)\n",
        "c=a-b\n",
        "print(c)\n",
        "print(b**2)\n",
        "print(10*np.sin(a))\n",
        "print(a<35)\n",
        "a[0] +=10\n",
        "print(a)\n",
        "A=np.array( [[1,1],[0,1]] )\n",
        "B=np.array( [[2,0],[3,4]] )\n",
        "print(A)\n",
        "print(B)\n",
        "print(A * B)\n",
        "print(A @ B)\n",
        "print(A.dot(B))\n",
        "print(np.dot(A,B))"
      ],
      "execution_count": 23,
      "outputs": [
        {
          "output_type": "stream",
          "text": [
            "[[ 0  1  2  3  4]\n",
            " [ 5  6  7  8  9]\n",
            " [10 11 12 13 14]]\n",
            "[20 30 40 50]\n",
            "[0 1 2 3]\n",
            "[20 29 38 47]\n",
            "[0 1 4 9]\n",
            "[ 9.12945251 -9.88031624  7.4511316  -2.62374854]\n",
            "[ True  True False False]\n",
            "[30 30 40 50]\n",
            "[[1 1]\n",
            " [0 1]]\n",
            "[[2 0]\n",
            " [3 4]]\n",
            "[[2 0]\n",
            " [0 4]]\n",
            "[[5 4]\n",
            " [3 4]]\n",
            "[[5 4]\n",
            " [3 4]]\n",
            "[[5 4]\n",
            " [3 4]]\n"
          ],
          "name": "stdout"
        }
      ]
    },
    {
      "cell_type": "code",
      "metadata": {
        "id": "RlApaA7eoq0A",
        "colab_type": "code",
        "colab": {
          "base_uri": "https://localhost:8080/",
          "height": 187
        },
        "outputId": "a5119281-6487-4249-dc70-b489c0914fa6"
      },
      "source": [
        "a=np.arange(12).reshape(3,4)\n",
        "print(a)\n",
        "print(a.sum( ))\n",
        "print(a.sum(axis=0))\n",
        "print(a.sum(axis=1))\n",
        "print(a.min(axis=1))\n",
        "print(a.cumsum(axis=1))"
      ],
      "execution_count": 24,
      "outputs": [
        {
          "output_type": "stream",
          "text": [
            "[[ 0  1  2  3]\n",
            " [ 4  5  6  7]\n",
            " [ 8  9 10 11]]\n",
            "66\n",
            "[12 15 18 21]\n",
            "[ 6 22 38]\n",
            "[0 4 8]\n",
            "[[ 0  1  3  6]\n",
            " [ 4  9 15 22]\n",
            " [ 8 17 27 38]]\n"
          ],
          "name": "stdout"
        }
      ]
    },
    {
      "cell_type": "code",
      "metadata": {
        "id": "DEDBIpTnpqqN",
        "colab_type": "code",
        "colab": {
          "base_uri": "https://localhost:8080/",
          "height": 187
        },
        "outputId": "9fbdae6d-092b-4e44-c66c-915eda702300"
      },
      "source": [
        "a=np.arange(5)\n",
        "print(a)\n",
        "b=np.random.random(5)\n",
        "print(b)\n",
        "print(np.add(a,b))\n",
        "print(a + b)\n",
        "print(np.subtract(a,b))\n",
        "print(a - b)\n",
        "print(np.multiply(a,b))\n",
        "print(a * b)\n",
        "print(np.divide(a,b))\n",
        "print(a / b )"
      ],
      "execution_count": 25,
      "outputs": [
        {
          "output_type": "stream",
          "text": [
            "[0 1 2 3 4]\n",
            "[0.36364312 0.98863823 0.48032718 0.51377432 0.12481057]\n",
            "[0.36364312 1.98863823 2.48032718 3.51377432 4.12481057]\n",
            "[0.36364312 1.98863823 2.48032718 3.51377432 4.12481057]\n",
            "[-0.36364312  0.01136177  1.51967282  2.48622568  3.87518943]\n",
            "[-0.36364312  0.01136177  1.51967282  2.48622568  3.87518943]\n",
            "[0.         0.98863823 0.96065435 1.54132297 0.49924229]\n",
            "[0.         0.98863823 0.96065435 1.54132297 0.49924229]\n",
            "[ 0.          1.01149234  4.16382853  5.83913959 32.04856694]\n",
            "[ 0.          1.01149234  4.16382853  5.83913959 32.04856694]\n"
          ],
          "name": "stdout"
        }
      ]
    },
    {
      "cell_type": "code",
      "metadata": {
        "id": "Hlu0N-WjvPzB",
        "colab_type": "code",
        "colab": {
          "base_uri": "https://localhost:8080/",
          "height": 357
        },
        "outputId": "99ebbe59-59a9-4f34-af4a-0266f252450c"
      },
      "source": [
        "a=np.arange(12).reshape(4,3)**2\n",
        "print(a)\n",
        "for i in a:\n",
        "  print(i)\n",
        "for i in a.flat:\n",
        "   print(i) "
      ],
      "execution_count": 30,
      "outputs": [
        {
          "output_type": "stream",
          "text": [
            "[[  0   1   4]\n",
            " [  9  16  25]\n",
            " [ 36  49  64]\n",
            " [ 81 100 121]]\n",
            "[0 1 4]\n",
            "[ 9 16 25]\n",
            "[36 49 64]\n",
            "[ 81 100 121]\n",
            "0\n",
            "1\n",
            "4\n",
            "9\n",
            "16\n",
            "25\n",
            "36\n",
            "49\n",
            "64\n",
            "81\n",
            "100\n",
            "121\n"
          ],
          "name": "stdout"
        }
      ]
    }
  ]
}